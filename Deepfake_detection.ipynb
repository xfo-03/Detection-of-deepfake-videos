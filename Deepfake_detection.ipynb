{
  "cells": [
    {
      "cell_type": "markdown",
      "metadata": {
        "id": "view-in-github",
        "colab_type": "text"
      },
      "source": [
        "<a href=\"https://colab.research.google.com/github/xfo-03/Detection-of-deepfake-videos/blob/main/Deepfake_detection.ipynb\" target=\"_parent\"><img src=\"https://colab.research.google.com/assets/colab-badge.svg\" alt=\"Open In Colab\"/></a>"
      ]
    },
    {
      "cell_type": "markdown",
      "source": [
        "#Modue Description\n",
        "\n",
        "\n",
        "\n",
        "*   Importing Libraries\n",
        "*   Mount drive\n",
        "*   Loop through all subdirectory images(frames), preprocess and save them in a new directory under 'processed_file name'.\n",
        "*   Change file name according to preference.\n",
        "\n",
        "\n",
        "\n",
        "\n",
        "\n",
        "\n",
        "\n",
        "\n",
        "\n",
        "\n",
        "\n",
        "\n",
        "\n",
        "\n",
        "\n"
      ],
      "metadata": {
        "id": "jY6BRpGqCNb0"
      }
    },
    {
      "cell_type": "code",
      "execution_count": null,
      "metadata": {
        "id": "H8rWTmm7T3sx"
      },
      "outputs": [],
      "source": [
        "from tensorflow import keras\n",
        "\n",
        "import matplotlib.pyplot as plt\n",
        "import tensorflow as tf\n",
        "import pandas as pd\n",
        "import numpy as np\n",
        "import imageio\n",
        "import cv2\n",
        "import os\n"
      ]
    },
    {
      "cell_type": "code",
      "execution_count": null,
      "metadata": {
        "id": "8At4Uw_iYLTH",
        "colab": {
          "base_uri": "https://localhost:8080/"
        },
        "outputId": "0dc99760-1128-43d6-f8a6-93f98d341a8e"
      },
      "outputs": [
        {
          "output_type": "stream",
          "name": "stdout",
          "text": [
            "Drive already mounted at /content/drive; to attempt to forcibly remount, call drive.mount(\"/content/drive\", force_remount=True).\n"
          ]
        }
      ],
      "source": [
        "from google.colab import drive\n",
        "drive.mount('/content/drive')\n",
        "# /content/drive/MyDrive/Deepfake_Detection_Project/Dataset"
      ]
    },
    {
      "cell_type": "code",
      "execution_count": null,
      "metadata": {
        "colab": {
          "base_uri": "https://localhost:8080/"
        },
        "id": "s5pSaC7PYhyx",
        "outputId": "f23cc1a6-85f2-4e25-b856-ed516993435e"
      },
      "outputs": [
        {
          "name": "stdout",
          "output_type": "stream",
          "text": [
            "[Errno 2] No such file or directory: '/content/drive/MyDrive/image_dataset_c40/FS_image-shortcut'\n",
            "/content/drive/MyDrive/image_dataset_c40\n"
          ]
        }
      ],
      "source": [
        "%cd '/content/drive/MyDrive/image_dataset_c40/FS_image-shortcut'"
      ]
    },
    {
      "cell_type": "code",
      "execution_count": null,
      "metadata": {
        "id": "mhL3g7s8kqUC"
      },
      "outputs": [],
      "source": [
        "import os\n",
        "import cv2\n",
        "\n",
        "# Set the root directory where your images are stored\n",
        "root_dir = \"/path/to/root/directory\"\n",
        "\n",
        "# Loop through all subdirectories\n",
        "for subdir in os.listdir(root_dir):\n",
        "    subdir_path = os.path.join(root_dir, subdir)\n",
        "    if os.path.isdir(subdir_path):\n",
        "        # Loop through all images in the subdirectory\n",
        "        for image_file in os.listdir(subdir_path):\n",
        "            image_path = os.path.join(subdir_path, image_file)\n",
        "            # Load the image using OpenCV's imread() function\n",
        "            image = cv2.imread(image_path)\n",
        "            "
      ]
    },
    {
      "cell_type": "code",
      "execution_count": null,
      "metadata": {
        "id": "EnpUJDoOlZT4"
      },
      "outputs": [],
      "source": [
        "import os\n",
        "import cv2\n",
        "\n",
        "# Set the root directory where your images are stored\n",
        "root_dir = \"/content/drive/MyDrive/image_dataset_c40\"\n",
        "\n",
        "# Loop through all subdirectories\n",
        "for subdir1 in os.listdir(root_dir):\n",
        "    subdir1_path = os.path.join(root_dir, subdir1)\n",
        "    if os.path.isdir(subdir1_path):\n",
        "        # Loop through all subdirectories in the subdirectory\n",
        "        for subdir2 in os.listdir(subdir1_path):\n",
        "            subdir2_path = os.path.join(subdir1_path, subdir2)\n",
        "            if os.path.isdir(subdir2_path):\n",
        "                # Loop through all images in the subdirectory\n",
        "                for image_file in os.listdir(subdir2_path):\n",
        "                    image_path = os.path.join(subdir2_path, image_file)\n",
        "                    # Load the image using OpenCV's imread() function\n",
        "                    image = cv2.imread(image_path)\n",
        "                    # Perform image generalization and denoising\n",
        "                    # Apply Gaussian blur with a kernel size of 5x5\n",
        "                    blurred = cv2.GaussianBlur(image, (5, 5), 0)\n",
        "                    # Apply median filter with a kernel size of 3x3\n",
        "                    denoised = cv2.medianBlur(blurred, 3)\n",
        "                    # Save the processed image to a new directory\n",
        "                    output_path = os.path.join(root_dir, \"processed\", subdir1, subdir2, image_file)\n",
        "                    os.makedirs(os.path.dirname(output_path), exist_ok=True)\n",
        "                    cv2.imwrite(output_path, denoised)\n"
      ]
    },
    {
      "cell_type": "code",
      "execution_count": null,
      "metadata": {
        "id": "3GXQlXmoYdO9"
      },
      "outputs": [],
      "source": [
        "directory = '/content/drive/MyDrive/image_dataset_c40/FaceSwap_img/FS_img 3/FaceSwap_processed'\n",
        "prefix = 'fake_'\n",
        "\n",
        "# Loop through all subdirectories\n",
        "for subdir1 in os.listdir(directory):\n",
        "    subdir1_path = os.path.join(directory, subdir1)\n",
        "    if os.path.isdir(subdir1_path):\n",
        "\n",
        "      for filename in os.listdir(subdir1_path):\n",
        "          if filename.endswith('.png'): \n",
        "              # Extract the existing file name\n",
        "              name, ext = os.path.splitext(filename)\n",
        "              \n",
        "              # suffix = name.split('_')[1].split('.')[0]\n",
        "              # Add the new prefix\n",
        "              new_name = prefix + name + ext\n",
        "              \n",
        "              # Save the modified file with the new name\n",
        "              os.rename(os.path.join(directory, subdir1_path, filename), os.path.join(directory,subdir1_path, new_name))\n",
        "\n",
        "              \n"
      ]
    },
    {
      "cell_type": "code",
      "execution_count": null,
      "metadata": {
        "id": "NJ59ICBEvQuL"
      },
      "outputs": [],
      "source": [
        "directory = '/content/drive/MyDrive/image_dataset_c40/FaceSwap_img/FS_img 3/FaceSwap_processed'\n",
        "prefix = 'FaceSwap_'\n",
        "\n",
        "for filename in os.listdir(directory):\n",
        "    \n",
        "      # Extract the existing file name\n",
        "      name, ext = os.path.splitext(filename)\n",
        "      \n",
        "      # suffix = name.split('_')[1].split('.')[0]\n",
        "      # Add the new prefix\n",
        "      new_name = prefix + name + ext\n",
        "      \n",
        "      # Save the modified file with the new name\n",
        "      os.rename(os.path.join(directory, filename), os.path.join(directory, new_name))\n",
        "\n",
        "             \n"
      ]
    }
  ],
  "metadata": {
    "colab": {
      "provenance": [],
      "gpuType": "T4",
      "mount_file_id": "1TdRiSROYlw9TFMHiqdHITnVjK54E_QH1",
      "authorship_tag": "ABX9TyO8Q0IxaIDYXfR7jQNWIohh",
      "include_colab_link": true
    },
    "gpuClass": "standard",
    "kernelspec": {
      "display_name": "Python 3",
      "name": "python3"
    },
    "language_info": {
      "name": "python"
    },
    "accelerator": "GPU"
  },
  "nbformat": 4,
  "nbformat_minor": 0
}